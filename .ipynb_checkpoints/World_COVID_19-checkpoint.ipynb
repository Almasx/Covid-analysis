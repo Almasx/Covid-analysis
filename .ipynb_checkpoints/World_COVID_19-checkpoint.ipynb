{
 "cells": [
  {
   "cell_type": "markdown",
   "metadata": {
    "colab_type": "text",
    "id": "bnu_YAjjFxOu"
   },
   "source": [
    "### Importing the required libraries"
   ]
  },
  {
   "cell_type": "code",
   "execution_count": 1,
   "metadata": {
    "_kg_hide-input": true,
    "_kg_hide-output": true,
    "colab": {},
    "colab_type": "code",
    "id": "BRQ9saONdhCQ"
   },
   "outputs": [],
   "source": [
    "# importing the required libraries\n",
    "import pandas as pd\n",
    "import numpy as np\n",
    "from scipy.integrate import odeint\n",
    "\n",
    "# Visualisation libraries\n",
    "import matplotlib.pyplot as plt\n",
    "%matplotlib inline\n",
    "import seaborn as sns\n",
    "import plotly.express as px\n",
    "import plotly.graph_objects as go\n",
    "import folium \n",
    "from folium import plugins\n",
    "\n",
    "import io\n",
    "import requests\n",
    "# Manipulating the default plot size\n",
    "plt.rcParams['figure.figsize'] = 10, 12"
   ]
  },
  {
   "cell_type": "markdown",
   "metadata": {
    "colab_type": "text",
    "id": "xQzjkCyhkzvW"
   },
   "source": [
    "# Part 1: Current situation in Kazakhstan\n"
   ]
  },
  {
   "cell_type": "markdown",
   "metadata": {
    "colab_type": "text",
    "id": "QLaxaOyJJvU7"
   },
   "source": [
    "## 1.1 Reading the Datasets\n"
   ]
  },
  {
   "cell_type": "code",
   "execution_count": null,
   "metadata": {
    "_kg_hide-input": true,
    "_kg_hide-output": true,
    "colab": {
     "base_uri": "https://localhost:8080/",
     "height": 576
    },
    "colab_type": "code",
    "executionInfo": {
     "elapsed": 4054,
     "status": "ok",
     "timestamp": 1600699957820,
     "user": {
      "displayName": "Алмас Сапаров",
      "photoUrl": "https://lh3.googleusercontent.com/a-/AOh14GiFvDIYbmVPZXcpXOVxPINE1CsIsEv1LSCu62uJxQ=s64",
      "userId": "08892959959624178165"
     },
     "user_tz": -300
    },
    "id": "GT-J_-YQdhCy",
    "outputId": "d992fb39-3404-4570-dc21-df95aa18ae9a"
   },
   "outputs": [],
   "source": [
    "# Reading the datasets\n",
    "df_kz = pd.read_excel('./data/convertcsv.xlsx')\n",
    "\n",
    "confirmed_url = 'https://raw.githubusercontent.com/CSSEGISandData/COVID-19/master/csse_covid_19_data/csse_covid_19_time_series/time_series_covid19_confirmed_global.csv'\n",
    "deaths_url = 'https://raw.githubusercontent.com/CSSEGISandData/COVID-19/master/csse_covid_19_data/csse_covid_19_time_series/time_series_covid19_deaths_global.csv'\n",
    "recovered_url = 'https://raw.githubusercontent.com/CSSEGISandData/COVID-19/master/csse_covid_19_data/csse_covid_19_time_series/time_series_covid19_recovered_global.csv'\n",
    "\n",
    "df_confirmed = pd.read_csv(io.StringIO(requests.get(confirmed_url).content.decode('utf-8')))\n",
    "df_deaths = pd.read_csv(io.StringIO(requests.get(deaths_url).content.decode('utf-8')))\n",
    "df_recovered = pd.read_csv(io.StringIO(requests.get(recovered_url).content.decode('utf-8')))\n",
    "\n",
    "df_kz"
   ]
  },
  {
   "cell_type": "code",
   "execution_count": null,
   "metadata": {},
   "outputs": [],
   "source": [
    "import requests\n",
    "from bs4 import BeautifulSoup\n",
    "\n",
    "page = requests.get(\"https://www.coronavirus2020.kz/\")\n",
    "soup = BeautifulSoup(page.content, 'lxml')\n",
    "\n",
    "data = []\n",
    "table = soup.find('div', attrs={'class':'table_info_cont'}).table\n",
    "table_body = table.find('tbody')\n",
    "\n",
    "rows = table_body.find_all('tr')\n",
    "for row in rows:\n",
    "    cols = row.find_all('td')\n",
    "    cols = [ele.text.strip() for ele in cols]\n",
    "    data.append([ele for ele in cols if ele])\n",
    "df_kz = pd.DataFrame(data[3:-1]).drop(6, 7)"
   ]
  },
  {
   "cell_type": "code",
   "execution_count": null,
   "metadata": {
    "colab": {
     "base_uri": "https://localhost:8080/",
     "height": 204
    },
    "colab_type": "code",
    "executionInfo": {
     "elapsed": 21330,
     "status": "ok",
     "timestamp": 1600699975237,
     "user": {
      "displayName": "Алмас Сапаров",
      "photoUrl": "https://lh3.googleusercontent.com/a-/AOh14GiFvDIYbmVPZXcpXOVxPINE1CsIsEv1LSCu62uJxQ=s64",
      "userId": "08892959959624178165"
     },
     "user_tz": -300
    },
    "id": "eBheAlqq_f01",
    "outputId": "41cccadd-f836-426c-ccf8-6c02d6db1336"
   },
   "outputs": [],
   "source": [
    "countries = []\n",
    "for country in df_confirmed['Country/Region']:\n",
    "    confirmed_cr = df_confirmed[df_confirmed['Country/Region'] == country]\n",
    "    if len(confirmed_cr['Province/State'].values) > 1:\n",
    "        for province in confirmed_cr['Province/State']:\n",
    "            confirmed_ps = df_confirmed[df_confirmed['Province/State'] == province]\n",
    "            confirmed_ps_ts = pd.DataFrame(confirmed_ps.iloc[:, 4:].sum()).reset_index()\n",
    "            confirmed_ps_ts.columns = ['Date', 'Confirmed']\n",
    "            confirmed_ps_ts['Province/State'] = province\n",
    "            confirmed_ps_ts['Country/Region'] = confirmed_cr['Country/Region'].values[0]\n",
    "            confirmed_ps_ts = confirmed_ps_ts[['Province/State', 'Country/Region',\n",
    "                                               'Date', 'Confirmed']]\n",
    "            confirmed_ps_ts['Death'] = pd.DataFrame(df_deaths[df_deaths['Province/State']\n",
    "                                                              == province].iloc[:, 4:].sum())[\n",
    "                0].values\n",
    "            confirmed_ps_ts['Recovered'] = pd.DataFrame(df_recovered[df_recovered['Province/State']\n",
    "                                                                     == province].iloc[:, 4:].sum())[\n",
    "                0].values\n",
    "            countries.append(confirmed_ps_ts)\n",
    "    else:\n",
    "        confirmed_cr_ts = pd.DataFrame(confirmed_cr.iloc[:, 4:].sum()).reset_index()\n",
    "        confirmed_cr_ts.columns = ['Date', 'Confirmed']\n",
    "        confirmed_cr_ts['Province/State'] = None\n",
    "        confirmed_cr_ts['Country/Region'] = confirmed_cr['Country/Region'].values[0]\n",
    "        confirmed_cr_ts = confirmed_cr_ts[['Province/State', 'Country/Region',\n",
    "                                           'Date', 'Confirmed']]\n",
    "        confirmed_cr_ts['Death'] = pd.DataFrame(df_deaths[df_deaths['Country/Region']\n",
    "                                                          == country].iloc[:, 4:].sum())[0].values\n",
    "        confirmed_cr_ts['Recovered'] = pd.DataFrame(df_recovered[df_recovered['Country/Region']\n",
    "                                                                 == country].iloc[:, 4:].sum())[\n",
    "            0].values\n",
    "        countries.append(confirmed_cr_ts)\n",
    "\n",
    "df = pd.concat(countries)\n",
    "df['Date'] = pd.to_datetime(df['Date'])\n",
    "df = df.sort_values(by=['Date']).reset_index(drop=True)\n",
    "df.tail()\n"
   ]
  },
  {
   "cell_type": "markdown",
   "metadata": {
    "colab_type": "text",
    "id": "2B1zwo4gdhDd"
   },
   "source": [
    "## 1.2 Analysing COVID19 Cases in Kazakhstan"
   ]
  },
  {
   "cell_type": "code",
   "execution_count": null,
   "metadata": {
    "_kg_hide-input": true,
    "_kg_hide-output": false,
    "colab": {
     "base_uri": "https://localhost:8080/",
     "height": 397
    },
    "colab_type": "code",
    "executionInfo": {
     "elapsed": 21200,
     "status": "ok",
     "timestamp": 1600699975243,
     "user": {
      "displayName": "Алмас Сапаров",
      "photoUrl": "https://lh3.googleusercontent.com/a-/AOh14GiFvDIYbmVPZXcpXOVxPINE1CsIsEv1LSCu62uJxQ=s64",
      "userId": "08892959959624178165"
     },
     "user_tz": -300
    },
    "id": "jIQzgI5YdhDh",
    "outputId": "05f03a68-df99-4e86-f0bc-382021aaa398"
   },
   "outputs": [],
   "source": [
    "df_kz.style.background_gradient(cmap='Reds')"
   ]
  },
  {
   "cell_type": "markdown",
   "metadata": {
    "colab_type": "text",
    "id": "0q44og8xdhE1"
   },
   "source": [
    "## 1.3 Visualising the spread geographically"
   ]
  },
  {
   "cell_type": "code",
   "execution_count": null,
   "metadata": {
    "_kg_hide-input": true,
    "_kg_hide-output": false,
    "colab": {
     "base_uri": "https://localhost:8080/",
     "height": 723
    },
    "colab_type": "code",
    "executionInfo": {
     "elapsed": 21107,
     "status": "ok",
     "timestamp": 1600699975271,
     "user": {
      "displayName": "Алмас Сапаров",
      "photoUrl": "https://lh3.googleusercontent.com/a-/AOh14GiFvDIYbmVPZXcpXOVxPINE1CsIsEv1LSCu62uJxQ=s64",
      "userId": "08892959959624178165"
     },
     "user_tz": -300
    },
    "id": "d6_6oRNadhE5",
    "outputId": "2a65db01-25bb-4892-b8de-34950fb996e8"
   },
   "outputs": [],
   "source": [
    "map = folium.Map(location=[20, 70], zoom_start=4,tiles='Stamenterrain')\n",
    "\n",
    "for lat, lon, value, name in zip(df_kz['Lat'], df_kz['Long'], df_kz['Зараженных'], df_kz['Регион']):\n",
    "    folium.CircleMarker([lat, lon], radius=value*0.003, popup = ('<strong>State</strong>: ' + str(name).capitalize() + '<br>''<strong>Total Cases</strong>: ' + str(value) + '<br>'),color='red',fill_color='red',fill_opacity=0.3 ).add_to(map)\n",
    "map"
   ]
  },
  {
   "cell_type": "markdown",
   "metadata": {
    "colab_type": "text",
    "id": "bl6V3wPkdhFE"
   },
   "source": [
    "## 1.4 Confirmed vs Recovered figures"
   ]
  },
  {
   "cell_type": "code",
   "execution_count": null,
   "metadata": {
    "_kg_hide-input": true,
    "_kg_hide-output": false,
    "colab": {
     "base_uri": "https://localhost:8080/",
     "height": 908
    },
    "colab_type": "code",
    "executionInfo": {
     "elapsed": 21021,
     "status": "ok",
     "timestamp": 1600699975275,
     "user": {
      "displayName": "Алмас Сапаров",
      "photoUrl": "https://lh3.googleusercontent.com/a-/AOh14GiFvDIYbmVPZXcpXOVxPINE1CsIsEv1LSCu62uJxQ=s64",
      "userId": "08892959959624178165"
     },
     "user_tz": -300
    },
    "id": "yBavZ1TndhFG",
    "outputId": "58bd72f2-30b3-4569-c31d-7514e5fcd004"
   },
   "outputs": [],
   "source": [
    "fig, ax = plt.subplots(figsize=(10, 12))\n",
    "sns.barplot(data=df_kz, x='Регион', y='Зараженных', color='red', alpha=0.4) \n",
    "sns.barplot(data=df_kz, x='Регион', y='Выздоровевших', color='blue', alpha=0.4)\n",
    "ax.set_xticklabels(df_kz['Регион'], rotation=90) \n",
    "plt.legend(['Confirmed', 'Recovered'])"
   ]
  },
  {
   "cell_type": "markdown",
   "metadata": {
    "colab_type": "text",
    "id": "dlLmZKkYUzMu"
   },
   "source": [
    "# Part 2: Is the trend similar to Italy/ S.Korea/ Spain?"
   ]
  },
  {
   "cell_type": "markdown",
   "metadata": {
    "colab_type": "text",
    "id": "PfZbFocZdhFh"
   },
   "source": [
    "## 2.1 Cumulative cases in Kazakhstan, Italy, Korea, South, Spain\n"
   ]
  },
  {
   "cell_type": "code",
   "execution_count": null,
   "metadata": {
    "colab": {},
    "colab_type": "code",
    "id": "g3dWsj6skqhm"
   },
   "outputs": [],
   "source": [
    "countries = []\n",
    "for country in ['Kazakhstan', 'Italy', 'Korea, South', 'Spain']:\n",
    "    confirmed_cn = df_confirmed[df_confirmed['Country/Region'] == country]\n",
    "    confirmed_cn_ts = pd.DataFrame(confirmed_cn.iloc[:, 4:].sum()).reset_index()\n",
    "    confirmed_cn_ts.columns = ['Timestap', 'Confirmed Cases']\n",
    "    countries.append(confirmed_cn_ts)"
   ]
  },
  {
   "cell_type": "code",
   "execution_count": null,
   "metadata": {
    "_kg_hide-input": true,
    "_kg_hide-output": false,
    "colab": {
     "base_uri": "https://localhost:8080/",
     "height": 542
    },
    "colab_type": "code",
    "executionInfo": {
     "elapsed": 20937,
     "status": "ok",
     "timestamp": 1600699975295,
     "user": {
      "displayName": "Алмас Сапаров",
      "photoUrl": "https://lh3.googleusercontent.com/a-/AOh14GiFvDIYbmVPZXcpXOVxPINE1CsIsEv1LSCu62uJxQ=s64",
      "userId": "08892959959624178165"
     },
     "user_tz": -300
    },
    "id": "sAu20QbRdhFO",
    "outputId": "42bc4106-87fe-403c-d1d5-3c4eea7d77d8"
   },
   "outputs": [],
   "source": [
    "fig = go.Figure()\n",
    "for index, country in enumerate(countries):\n",
    "    fig.add_trace(go.Scatter(x=country['Timestap'], y=country['Confirmed Cases'],\n",
    "                             name=['Kazakhstan', 'Italy', 'Korea, South',\n",
    "                                   'Spain'][index]))\n",
    "fig.update_layout(title_text='Trend of Coronavirus Cases in Kazakhstan, Italy, '\n",
    "                             'Korea, South, Spain (Cumulative cases)',\n",
    "                  plot_bgcolor='rgb(230, 230, 230)')\n",
    "fig.show()\n",
    "fig.write_html(\"./Trend of Coronavirus Cases in countries\")"
   ]
  },
  {
   "cell_type": "code",
   "execution_count": null,
   "metadata": {
    "colab": {
     "base_uri": "https://localhost:8080/",
     "height": 542
    },
    "colab_type": "code",
    "executionInfo": {
     "elapsed": 22536,
     "status": "ok",
     "timestamp": 1600699976941,
     "user": {
      "displayName": "Алмас Сапаров",
      "photoUrl": "https://lh3.googleusercontent.com/a-/AOh14GiFvDIYbmVPZXcpXOVxPINE1CsIsEv1LSCu62uJxQ=s64",
      "userId": "08892959959624178165"
     },
     "user_tz": -300
    },
    "id": "kty_FfG7tJb3",
    "outputId": "75d0e105-8505-47ca-e036-e8ef796944f5"
   },
   "outputs": [],
   "source": [
    "import plotly.express as px \n",
    "  \n",
    "confirmed_v_ts = pd.concat({'Kazakhstan': countries[0], 'Italy': countries[1],\n",
    "                            'Korea, South': countries[2],\n",
    "                            'Spain': countries[3]}).reset_index().drop(['level_1'], \n",
    "                            axis=1).rename(columns={'level_0': 'Country'})\n",
    "fig = px.bar(confirmed_v_ts, x='Timestap', y='Confirmed Cases',  \n",
    "             barmode='stack', color='Country') \n",
    "fig.show()\n",
    "fig.write_html(\"./Trend of stacked Coronavirus Cases in countries\")"
   ]
  },
  {
   "cell_type": "markdown",
   "metadata": {
    "colab_type": "text",
    "id": "QvCUF8AQdhFv"
   },
   "source": [
    "## 2.2 Comparison between the rise of cases in Wuhan, S.Korea, Italy and India"
   ]
  },
  {
   "cell_type": "code",
   "execution_count": null,
   "metadata": {
    "_kg_hide-input": true,
    "_kg_hide-output": false,
    "colab": {
     "base_uri": "https://localhost:8080/",
     "height": 542
    },
    "colab_type": "code",
    "executionInfo": {
     "elapsed": 22497,
     "status": "ok",
     "timestamp": 1600699976944,
     "user": {
      "displayName": "Алмас Сапаров",
      "photoUrl": "https://lh3.googleusercontent.com/a-/AOh14GiFvDIYbmVPZXcpXOVxPINE1CsIsEv1LSCu62uJxQ=s64",
      "userId": "08892959959624178165"
     },
     "user_tz": -300
    },
    "id": "eupJkZqpdhFy",
    "outputId": "86dd1e24-7183-462b-b799-abbbfce5fd8d"
   },
   "outputs": [],
   "source": [
    "from plotly.subplots import make_subplots\n",
    "\n",
    "fig = make_subplots(\n",
    "    rows=2, cols=2,\n",
    "    specs=[[{}, {}],\n",
    "           [{}, {}]],\n",
    "    subplot_titles=(\"Kazakhstan\", \"Italy\", \"S.Korea\", \"Spain\"))\n",
    "\n",
    "for index, country in enumerate(countries):\n",
    "    row, col = {0: (1, 1), 1: (1, 2), 2: (2, 1), 3: (2, 2)}[index]\n",
    "    fig.add_trace(go.Bar(x=country['Timestap'], y=country['Confirmed Cases'],\n",
    "                         marker=dict(color=country['Confirmed Cases'],\n",
    "                                     coloraxis=\"coloraxis\")), row, col)\n",
    "\n",
    "fig.update_layout(coloraxis=dict(colorscale='Bluered_r'),\n",
    "                  showlegend=False, title_text=\"Total Confirmed cases(Cumulative)\")\n",
    "fig.update_layout(plot_bgcolor='rgb(230, 230, 230)')\n",
    "fig.show()\n",
    "fig.write_html(\"./Compare Coronavirus Cases in countries\")"
   ]
  },
  {
   "cell_type": "markdown",
   "metadata": {
    "colab_type": "text",
    "id": "PNpM1HZdGHfE"
   },
   "source": [
    "# Part 3:  Exploring World wide data\n"
   ]
  },
  {
   "cell_type": "code",
   "execution_count": null,
   "metadata": {
    "colab": {},
    "colab_type": "code",
    "id": "my9r-690MR6R"
   },
   "outputs": [],
   "source": [
    "df.rename(columns={'Country/Region':'Country'}, inplace=True)\n",
    "\n",
    "df_confirmed.rename(columns={'Country/Region':'Country'}, inplace=True)\n",
    "df_recovered.rename(columns={'Country/Region':'Country'}, inplace=True)\n",
    "df_deaths.rename(columns={'Country/Region':'Country'}, inplace=True)"
   ]
  },
  {
   "cell_type": "code",
   "execution_count": null,
   "metadata": {
    "colab": {
     "base_uri": "https://localhost:8080/",
     "height": 253
    },
    "colab_type": "code",
    "executionInfo": {
     "elapsed": 22436,
     "status": "ok",
     "timestamp": 1600699976953,
     "user": {
      "displayName": "Алмас Сапаров",
      "photoUrl": "https://lh3.googleusercontent.com/a-/AOh14GiFvDIYbmVPZXcpXOVxPINE1CsIsEv1LSCu62uJxQ=s64",
      "userId": "08892959959624178165"
     },
     "user_tz": -300
    },
    "id": "n6DDJosMMbpp",
    "outputId": "89b3fbf8-d96c-45a5-c637-80f481bbf265"
   },
   "outputs": [],
   "source": [
    "df_confirmed.head()"
   ]
  },
  {
   "cell_type": "code",
   "execution_count": null,
   "metadata": {
    "colab": {
     "base_uri": "https://localhost:8080/",
     "height": 204
    },
    "colab_type": "code",
    "executionInfo": {
     "elapsed": 22394,
     "status": "ok",
     "timestamp": 1600699976959,
     "user": {
      "displayName": "Алмас Сапаров",
      "photoUrl": "https://lh3.googleusercontent.com/a-/AOh14GiFvDIYbmVPZXcpXOVxPINE1CsIsEv1LSCu62uJxQ=s64",
      "userId": "08892959959624178165"
     },
     "user_tz": -300
    },
    "id": "k6s-_rRCu7v3",
    "outputId": "396f32f6-0192-4610-e3b8-f78a62902594"
   },
   "outputs": [],
   "source": [
    "df.tail()"
   ]
  },
  {
   "cell_type": "code",
   "execution_count": null,
   "metadata": {
    "colab": {
     "base_uri": "https://localhost:8080/",
     "height": 204
    },
    "colab_type": "code",
    "executionInfo": {
     "elapsed": 22356,
     "status": "ok",
     "timestamp": 1600699976966,
     "user": {
      "displayName": "Алмас Сапаров",
      "photoUrl": "https://lh3.googleusercontent.com/a-/AOh14GiFvDIYbmVPZXcpXOVxPINE1CsIsEv1LSCu62uJxQ=s64",
      "userId": "08892959959624178165"
     },
     "user_tz": -300
    },
    "id": "bdTJxBp0MgcN",
    "outputId": "214eef99-d5ec-46c8-c0d5-5b2f2545384b"
   },
   "outputs": [],
   "source": [
    "df2 = df.groupby([\"Date\", \"Country\", \"Province/State\"])[['Date', 'Province/State', 'Country', 'Confirmed', 'Death', 'Recovered']].sum().reset_index()\n",
    "df2.head()"
   ]
  },
  {
   "cell_type": "code",
   "execution_count": null,
   "metadata": {
    "colab": {
     "base_uri": "https://localhost:8080/",
     "height": 419
    },
    "colab_type": "code",
    "executionInfo": {
     "elapsed": 22317,
     "status": "ok",
     "timestamp": 1600699976973,
     "user": {
      "displayName": "Алмас Сапаров",
      "photoUrl": "https://lh3.googleusercontent.com/a-/AOh14GiFvDIYbmVPZXcpXOVxPINE1CsIsEv1LSCu62uJxQ=s64",
      "userId": "08892959959624178165"
     },
     "user_tz": -300
    },
    "id": "XL1R4UaYMtUZ",
    "outputId": "69490d62-22d6-4480-ee41-ffa939de7345"
   },
   "outputs": [],
   "source": [
    "# Check for Kazakhstan's data\n",
    "df.query('Country==\"Kazakhstan\"').groupby(\"Date\")[['Confirmed', 'Death', 'Recovered']].sum().reset_index()"
   ]
  },
  {
   "cell_type": "code",
   "execution_count": null,
   "metadata": {
    "colab": {
     "base_uri": "https://localhost:8080/",
     "height": 235
    },
    "colab_type": "code",
    "executionInfo": {
     "elapsed": 22277,
     "status": "ok",
     "timestamp": 1600699976976,
     "user": {
      "displayName": "Алмас Сапаров",
      "photoUrl": "https://lh3.googleusercontent.com/a-/AOh14GiFvDIYbmVPZXcpXOVxPINE1CsIsEv1LSCu62uJxQ=s64",
      "userId": "08892959959624178165"
     },
     "user_tz": -300
    },
    "id": "njoxWBE0M3XE",
    "outputId": "412193ec-f5e4-4cea-c4e4-83608a7ccc8d"
   },
   "outputs": [],
   "source": [
    "#Overall worldwide Confirmed/ Deaths/ Recovered cases \n",
    "df.groupby('Date').sum().head()"
   ]
  },
  {
   "cell_type": "markdown",
   "metadata": {
    "colab_type": "text",
    "id": "nZxXuyvkNnMm"
   },
   "source": [
    "## 3.1 Visualizing: Worldwide NCOVID-19 cases  "
   ]
  },
  {
   "cell_type": "code",
   "execution_count": null,
   "metadata": {
    "colab": {},
    "colab_type": "code",
    "id": "UmKuQ54RNVvL"
   },
   "outputs": [],
   "source": [
    "confirmed = df.groupby('Date').sum()['Confirmed'].reset_index()\n",
    "deaths = df.groupby('Date').sum()['Death'].reset_index()\n",
    "recovered = df.groupby('Date').sum()['Recovered'].reset_index()"
   ]
  },
  {
   "cell_type": "code",
   "execution_count": null,
   "metadata": {
    "colab": {
     "base_uri": "https://localhost:8080/",
     "height": 542
    },
    "colab_type": "code",
    "executionInfo": {
     "elapsed": 2549,
     "status": "ok",
     "timestamp": 1600699990967,
     "user": {
      "displayName": "Алмас Сапаров",
      "photoUrl": "https://lh3.googleusercontent.com/a-/AOh14GiFvDIYbmVPZXcpXOVxPINE1CsIsEv1LSCu62uJxQ=s64",
      "userId": "08892959959624178165"
     },
     "user_tz": -300
    },
    "id": "FC5JJSvkN1MB",
    "outputId": "ccf83186-8acb-4295-d151-b3d30330d317"
   },
   "outputs": [],
   "source": [
    "fig = go.Figure()\n",
    "#Plotting datewise confirmed cases\n",
    "fig.add_trace(go.Scatter(x=confirmed['Date'], y=confirmed['Confirmed'], mode='lines', name='Confirmed',line=dict(color='blue', width=2)))\n",
    "fig.add_trace(go.Scatter(x=deaths['Date'], y=deaths['Death'], mode='lines', name='Death', line=dict(color='Red', width=2)))\n",
    "fig.add_trace(go.Scatter(x=recovered['Date'], y=recovered['Recovered'], mode='lines', name='Recovered', line=dict(color='Green', width=2)))\n",
    "fig.update_layout(title='Worldwide NCOVID-19 Cases', xaxis_tickfont_size=14,yaxis=dict(title='Number of Cases'))\n",
    "\n",
    "fig.show()\n",
    "fig.write_html(\"./Worldwide NCOVID-19 Cases\")"
   ]
  },
  {
   "cell_type": "code",
   "execution_count": null,
   "metadata": {
    "colab": {
     "base_uri": "https://localhost:8080/",
     "height": 558
    },
    "colab_type": "code",
    "executionInfo": {
     "elapsed": 5784,
     "status": "ok",
     "timestamp": 1600700112936,
     "user": {
      "displayName": "Алмас Сапаров",
      "photoUrl": "https://lh3.googleusercontent.com/a-/AOh14GiFvDIYbmVPZXcpXOVxPINE1CsIsEv1LSCu62uJxQ=s64",
      "userId": "08892959959624178165"
     },
     "user_tz": -300
    },
    "id": "amr83SuIv6jN",
    "outputId": "0abdddfb-3bc1-47cf-ea98-7179c5a00384"
   },
   "outputs": [],
   "source": [
    "sns.set()\n",
    "fig, ax = plt.subplots(figsize=(30, 10))\n",
    "stack_data = [confirmed['Confirmed'], deaths['Death'], recovered['Recovered']]\n",
    "stack_data.append([x1 - x2 - x3 for x1, x2, x3 in zip(*stack_data)])\n",
    "stack_data.pop(0)\n",
    "plt.stackplot(range(confirmed['Date'].size), stack_data)\n",
    "plt.legend(['Deaths', 'Recovered', 'Active'])\n",
    "ax.set_xticks(range(confirmed['Date'].size)[::4])\n",
    "ax.set_xticklabels(confirmed['Date'].to_numpy()[::4], rotation=90)\n",
    "plt.show()\n",
    "plt.savefig('Worldwide NCOVID-19 Cases.PNG')"
   ]
  },
  {
   "cell_type": "markdown",
   "metadata": {
    "colab_type": "text",
    "id": "guIlgMVOXrPl"
   },
   "source": [
    "# Part 4: Forecasting Total Number of Cases Worldwide"
   ]
  },
  {
   "cell_type": "code",
   "execution_count": null,
   "metadata": {
    "colab": {},
    "colab_type": "code",
    "id": "7Uhg_dqpUqi7"
   },
   "outputs": [],
   "source": [
    "from fbprophet import Prophet"
   ]
  },
  {
   "cell_type": "code",
   "execution_count": null,
   "metadata": {
    "colab": {},
    "colab_type": "code",
    "id": "JF1sy1gmP8Ur"
   },
   "outputs": [],
   "source": [
    "confirmed = df.groupby('Date').sum()['Confirmed'].reset_index()\n",
    "deaths = df.groupby('Date').sum()['Death'].reset_index()\n",
    "recovered = df.groupby('Date').sum()['Recovered'].reset_index()"
   ]
  },
  {
   "cell_type": "code",
   "execution_count": null,
   "metadata": {
    "colab": {},
    "colab_type": "code",
    "id": "rn3z-futUCXy"
   },
   "outputs": [],
   "source": [
    "confirmed.columns = ['ds','y']\n",
    "#confirmed['ds'] = confirmed['ds'].dt.date\n",
    "confirmed['ds'] = pd.to_datetime(confirmed['ds'])"
   ]
  },
  {
   "cell_type": "code",
   "execution_count": null,
   "metadata": {
    "colab": {
     "base_uri": "https://localhost:8080/",
     "height": 266
    },
    "colab_type": "code",
    "executionInfo": {
     "elapsed": 18823,
     "status": "ok",
     "timestamp": 1600692048448,
     "user": {
      "displayName": "Алмас Сапаров",
      "photoUrl": "https://lh3.googleusercontent.com/a-/AOh14GiFvDIYbmVPZXcpXOVxPINE1CsIsEv1LSCu62uJxQ=s64",
      "userId": "08892959959624178165"
     },
     "user_tz": -300
    },
    "id": "0WcK1FkfUEq9",
    "outputId": "b9995fd8-50e9-4d40-d419-46162497be1a"
   },
   "outputs": [],
   "source": [
    "confirmed.tail(7)"
   ]
  },
  {
   "cell_type": "markdown",
   "metadata": {
    "colab_type": "text",
    "id": "bZVTsSqMaDLO"
   },
   "source": [
    "\n",
    "## 4.1 Forecasting Confirmed NCOVID-19 Cases Worldwide with Prophet (Base model)\n",
    "\n",
    "Generating a week ahead forecast of confirmed cases of NCOVID-19 using Prophet, with 95% prediction interval by creating a base model with no tweaking of seasonality-related parameters and additional regressors."
   ]
  },
  {
   "cell_type": "code",
   "execution_count": null,
   "metadata": {
    "colab": {
     "base_uri": "https://localhost:8080/",
     "height": 238
    },
    "colab_type": "code",
    "executionInfo": {
     "elapsed": 18788,
     "status": "ok",
     "timestamp": 1600692048449,
     "user": {
      "displayName": "Алмас Сапаров",
      "photoUrl": "https://lh3.googleusercontent.com/a-/AOh14GiFvDIYbmVPZXcpXOVxPINE1CsIsEv1LSCu62uJxQ=s64",
      "userId": "08892959959624178165"
     },
     "user_tz": -300
    },
    "id": "5pw5VDIlUH-F",
    "outputId": "164be782-d46a-424a-bad1-aa67aa3ff1ec"
   },
   "outputs": [],
   "source": [
    "m = Prophet(interval_width=0.95)\n",
    "m.fit(confirmed)\n",
    "future = m.make_future_dataframe(periods=7)\n",
    "future.tail()"
   ]
  },
  {
   "cell_type": "code",
   "execution_count": null,
   "metadata": {
    "colab": {
     "base_uri": "https://localhost:8080/",
     "height": 204
    },
    "colab_type": "code",
    "executionInfo": {
     "elapsed": 20964,
     "status": "ok",
     "timestamp": 1600692050664,
     "user": {
      "displayName": "Алмас Сапаров",
      "photoUrl": "https://lh3.googleusercontent.com/a-/AOh14GiFvDIYbmVPZXcpXOVxPINE1CsIsEv1LSCu62uJxQ=s64",
      "userId": "08892959959624178165"
     },
     "user_tz": -300
    },
    "id": "CdJu5EnIUPhB",
    "outputId": "5c008dd9-796f-4f04-c3b3-e1d3e38f34ef"
   },
   "outputs": [],
   "source": [
    "#predicting the future with date, and upper and lower limit of y value\n",
    "forecast = m.predict(future)\n",
    "forecast[['ds', 'yhat', 'yhat_lower', 'yhat_upper']].tail()"
   ]
  },
  {
   "cell_type": "code",
   "execution_count": null,
   "metadata": {
    "colab": {
     "base_uri": "https://localhost:8080/",
     "height": 437
    },
    "colab_type": "code",
    "executionInfo": {
     "elapsed": 20930,
     "status": "ok",
     "timestamp": 1600692050668,
     "user": {
      "displayName": "Алмас Сапаров",
      "photoUrl": "https://lh3.googleusercontent.com/a-/AOh14GiFvDIYbmVPZXcpXOVxPINE1CsIsEv1LSCu62uJxQ=s64",
      "userId": "08892959959624178165"
     },
     "user_tz": -300
    },
    "id": "ePoOz6wwU3c0",
    "outputId": "f1a39226-f4dc-4773-b30d-cb5b9723e73c"
   },
   "outputs": [],
   "source": [
    "confirmed_forecast_plot = m.plot(forecast)"
   ]
  },
  {
   "cell_type": "code",
   "execution_count": null,
   "metadata": {
    "colab": {
     "base_uri": "https://localhost:8080/",
     "height": 437
    },
    "colab_type": "code",
    "executionInfo": {
     "elapsed": 20910,
     "status": "ok",
     "timestamp": 1600692050673,
     "user": {
      "displayName": "Алмас Сапаров",
      "photoUrl": "https://lh3.googleusercontent.com/a-/AOh14GiFvDIYbmVPZXcpXOVxPINE1CsIsEv1LSCu62uJxQ=s64",
      "userId": "08892959959624178165"
     },
     "user_tz": -300
    },
    "id": "UDv_-qMRepkF",
    "outputId": "706d91a9-5659-44a2-ab41-084ef2be591f"
   },
   "outputs": [],
   "source": [
    "confirmed_forecast_plot = m.plot_components(forecast)"
   ]
  },
  {
   "cell_type": "markdown",
   "metadata": {
    "colab_type": "text",
    "id": "IeR0wJvMbGPH"
   },
   "source": [
    "##4.2 Forecasting Worldwide Deaths using Prophet (Base model)\n",
    "\n",
    "Generating a week ahead forecast of confirmed cases of NCOVID-19 using Prophet, with 95% prediction interval by creating a base model with no tweaking of seasonality-related parameters and additional regressors."
   ]
  },
  {
   "cell_type": "code",
   "execution_count": null,
   "metadata": {
    "colab": {},
    "colab_type": "code",
    "id": "mBh3fYTPU8x5"
   },
   "outputs": [],
   "source": [
    "deaths.columns = ['ds','y']\n",
    "deaths['ds'] = pd.to_datetime(deaths['ds'])"
   ]
  },
  {
   "cell_type": "code",
   "execution_count": null,
   "metadata": {
    "colab": {
     "base_uri": "https://localhost:8080/",
     "height": 238
    },
    "colab_type": "code",
    "executionInfo": {
     "elapsed": 21274,
     "status": "ok",
     "timestamp": 1600692051131,
     "user": {
      "displayName": "Алмас Сапаров",
      "photoUrl": "https://lh3.googleusercontent.com/a-/AOh14GiFvDIYbmVPZXcpXOVxPINE1CsIsEv1LSCu62uJxQ=s64",
      "userId": "08892959959624178165"
     },
     "user_tz": -300
    },
    "id": "2644baabbXuU",
    "outputId": "5a2fb6d6-c9cd-4394-a112-b59baed0410b"
   },
   "outputs": [],
   "source": [
    "m = Prophet(interval_width=0.95)\n",
    "m.fit(deaths)\n",
    "future = m.make_future_dataframe(periods=7)\n",
    "future.tail()"
   ]
  },
  {
   "cell_type": "code",
   "execution_count": null,
   "metadata": {
    "colab": {
     "base_uri": "https://localhost:8080/",
     "height": 204
    },
    "colab_type": "code",
    "executionInfo": {
     "elapsed": 22490,
     "status": "ok",
     "timestamp": 1600692052375,
     "user": {
      "displayName": "Алмас Сапаров",
      "photoUrl": "https://lh3.googleusercontent.com/a-/AOh14GiFvDIYbmVPZXcpXOVxPINE1CsIsEv1LSCu62uJxQ=s64",
      "userId": "08892959959624178165"
     },
     "user_tz": -300
    },
    "id": "5yAFR7chbZgj",
    "outputId": "9a21da76-19b8-4960-e602-3375eb7a695d"
   },
   "outputs": [],
   "source": [
    "forecast = m.predict(future)\n",
    "forecast[['ds', 'yhat', 'yhat_lower', 'yhat_upper']].tail()"
   ]
  },
  {
   "cell_type": "code",
   "execution_count": null,
   "metadata": {
    "colab": {
     "base_uri": "https://localhost:8080/",
     "height": 437
    },
    "colab_type": "code",
    "executionInfo": {
     "elapsed": 24031,
     "status": "ok",
     "timestamp": 1600692053956,
     "user": {
      "displayName": "Алмас Сапаров",
      "photoUrl": "https://lh3.googleusercontent.com/a-/AOh14GiFvDIYbmVPZXcpXOVxPINE1CsIsEv1LSCu62uJxQ=s64",
      "userId": "08892959959624178165"
     },
     "user_tz": -300
    },
    "id": "uKVaQnPebdJc",
    "outputId": "9a8f37ee-c390-4496-9560-844486db674e"
   },
   "outputs": [],
   "source": [
    "deaths_forecast_plot = m.plot(forecast)"
   ]
  },
  {
   "cell_type": "code",
   "execution_count": null,
   "metadata": {
    "colab": {
     "base_uri": "https://localhost:8080/",
     "height": 437
    },
    "colab_type": "code",
    "executionInfo": {
     "elapsed": 24009,
     "status": "ok",
     "timestamp": 1600692053966,
     "user": {
      "displayName": "Алмас Сапаров",
      "photoUrl": "https://lh3.googleusercontent.com/a-/AOh14GiFvDIYbmVPZXcpXOVxPINE1CsIsEv1LSCu62uJxQ=s64",
      "userId": "08892959959624178165"
     },
     "user_tz": -300
    },
    "id": "DB9Qq43peepR",
    "outputId": "78e5e7e1-4b7e-4574-ceee-9f2a8edeb0f5"
   },
   "outputs": [],
   "source": [
    "deaths_forecast_plot = m.plot_components(forecast)"
   ]
  },
  {
   "cell_type": "markdown",
   "metadata": {
    "colab_type": "text",
    "id": "BEo4E8R8dy0_"
   },
   "source": [
    "##4.3 Forecasting Worldwide Recovered Cases with Prophet (Base model)\n",
    "\n",
    "Generating a week ahead forecast of confirmed cases of NCOVID-19 using Prophet, with 95% prediction interval by creating a base model with no tweaking of seasonality-related parameters and additional regressors."
   ]
  },
  {
   "cell_type": "code",
   "execution_count": null,
   "metadata": {
    "colab": {},
    "colab_type": "code",
    "id": "Z1keUssrdvYN"
   },
   "outputs": [],
   "source": [
    "recovered.columns = ['ds','y']\n",
    "recovered['ds'] = pd.to_datetime(recovered['ds'])"
   ]
  },
  {
   "cell_type": "code",
   "execution_count": null,
   "metadata": {
    "colab": {
     "base_uri": "https://localhost:8080/",
     "height": 300
    },
    "colab_type": "code",
    "executionInfo": {
     "elapsed": 24374,
     "status": "ok",
     "timestamp": 1600692054406,
     "user": {
      "displayName": "Алмас Сапаров",
      "photoUrl": "https://lh3.googleusercontent.com/a-/AOh14GiFvDIYbmVPZXcpXOVxPINE1CsIsEv1LSCu62uJxQ=s64",
      "userId": "08892959959624178165"
     },
     "user_tz": -300
    },
    "id": "EaggMuv7d-1D",
    "outputId": "251cb4b1-9e26-4efc-e2b9-22851c9fb528"
   },
   "outputs": [],
   "source": [
    "m = Prophet(interval_width=0.95)\n",
    "m.fit(recovered)\n",
    "future = m.make_future_dataframe(periods=7)\n",
    "future.tail(7)"
   ]
  },
  {
   "cell_type": "code",
   "execution_count": null,
   "metadata": {
    "colab": {
     "base_uri": "https://localhost:8080/",
     "height": 266
    },
    "colab_type": "code",
    "executionInfo": {
     "elapsed": 26288,
     "status": "ok",
     "timestamp": 1600692056366,
     "user": {
      "displayName": "Алмас Сапаров",
      "photoUrl": "https://lh3.googleusercontent.com/a-/AOh14GiFvDIYbmVPZXcpXOVxPINE1CsIsEv1LSCu62uJxQ=s64",
      "userId": "08892959959624178165"
     },
     "user_tz": -300
    },
    "id": "QwTHSHVheAYS",
    "outputId": "5347c55f-aaab-4a31-a725-63370802b019"
   },
   "outputs": [],
   "source": [
    "forecast = m.predict(future)\n",
    "forecast[['ds', 'yhat', 'yhat_lower', 'yhat_upper']].tail(7)"
   ]
  },
  {
   "cell_type": "code",
   "execution_count": null,
   "metadata": {
    "colab": {
     "base_uri": "https://localhost:8080/",
     "height": 437
    },
    "colab_type": "code",
    "executionInfo": {
     "elapsed": 26834,
     "status": "ok",
     "timestamp": 1600692056969,
     "user": {
      "displayName": "Алмас Сапаров",
      "photoUrl": "https://lh3.googleusercontent.com/a-/AOh14GiFvDIYbmVPZXcpXOVxPINE1CsIsEv1LSCu62uJxQ=s64",
      "userId": "08892959959624178165"
     },
     "user_tz": -300
    },
    "id": "EAp07XxTeCuy",
    "outputId": "3f33294d-1c23-41d1-b28e-4cf14f65856b"
   },
   "outputs": [],
   "source": [
    "recovered_forecast_plot = m.plot(forecast)"
   ]
  },
  {
   "cell_type": "code",
   "execution_count": null,
   "metadata": {
    "colab": {
     "base_uri": "https://localhost:8080/",
     "height": 437
    },
    "colab_type": "code",
    "executionInfo": {
     "elapsed": 27591,
     "status": "ok",
     "timestamp": 1600692057771,
     "user": {
      "displayName": "Алмас Сапаров",
      "photoUrl": "https://lh3.googleusercontent.com/a-/AOh14GiFvDIYbmVPZXcpXOVxPINE1CsIsEv1LSCu62uJxQ=s64",
      "userId": "08892959959624178165"
     },
     "user_tz": -300
    },
    "id": "UQVIYNZReFSB",
    "outputId": "779b0f6d-b46b-439f-ee20-664aeff560eb"
   },
   "outputs": [],
   "source": [
    "recovered_forecast_plot = m.plot_components(forecast)\n"
   ]
  },
  {
   "cell_type": "markdown",
   "metadata": {
    "colab_type": "text",
    "id": "4n8C9qShaRxH"
   },
   "source": [
    "## 4.4 Forecasting Kazakhstan Recovered, Death, Confirmed Cases with Prophet (Base model)"
   ]
  },
  {
   "cell_type": "code",
   "execution_count": null,
   "metadata": {
    "colab": {},
    "colab_type": "code",
    "id": "t7st4Yy-a1gP"
   },
   "outputs": [],
   "source": [
    "confirmed_kz = df[df['Country'] == 'Kazakhstan'].groupby('Date').sum()['Confirmed'].reset_index()\n",
    "deaths_kz = df[df['Country'] == 'Kazakhstan'].groupby('Date').sum()['Death'].reset_index()\n",
    "recovered_kz = df[df['Country'] == 'Kazakhstan'].groupby('Date').sum()['Recovered'].reset_index()"
   ]
  },
  {
   "cell_type": "code",
   "execution_count": null,
   "metadata": {
    "colab": {},
    "colab_type": "code",
    "id": "u_1w-VngbanG"
   },
   "outputs": [],
   "source": [
    "recovered_kz.columns = ['ds','y']\n",
    "recovered_kz['ds'] = pd.to_datetime(recovered_kz['ds'])\n",
    "deaths_kz.columns = ['ds','y']\n",
    "deaths_kz['ds'] = pd.to_datetime(deaths_kz['ds'])\n",
    "confirmed_kz.columns = ['ds','y']\n",
    "confirmed_kz['ds'] = pd.to_datetime(confirmed_kz['ds'])"
   ]
  },
  {
   "cell_type": "code",
   "execution_count": null,
   "metadata": {
    "colab": {
     "base_uri": "https://localhost:8080/",
     "height": 51
    },
    "colab_type": "code",
    "executionInfo": {
     "elapsed": 29997,
     "status": "ok",
     "timestamp": 1600692060308,
     "user": {
      "displayName": "Алмас Сапаров",
      "photoUrl": "https://lh3.googleusercontent.com/a-/AOh14GiFvDIYbmVPZXcpXOVxPINE1CsIsEv1LSCu62uJxQ=s64",
      "userId": "08892959959624178165"
     },
     "user_tz": -300
    },
    "id": "O2NliBjvbpxB",
    "outputId": "837013b1-73aa-4aa1-b257-e190ae3529a4"
   },
   "outputs": [],
   "source": [
    "m = Prophet(interval_width=0.95)\n",
    "m.fit(recovered_kz)\n",
    "future = m.make_future_dataframe(periods=7)\n",
    "forecast = m.predict(future)"
   ]
  },
  {
   "cell_type": "code",
   "execution_count": null,
   "metadata": {
    "colab": {
     "base_uri": "https://localhost:8080/",
     "height": 437
    },
    "colab_type": "code",
    "executionInfo": {
     "elapsed": 29954,
     "status": "ok",
     "timestamp": 1600692060313,
     "user": {
      "displayName": "Алмас Сапаров",
      "photoUrl": "https://lh3.googleusercontent.com/a-/AOh14GiFvDIYbmVPZXcpXOVxPINE1CsIsEv1LSCu62uJxQ=s64",
      "userId": "08892959959624178165"
     },
     "user_tz": -300
    },
    "id": "u0Au7_IIbzBH",
    "outputId": "efbf1e85-96a9-4098-b848-e56a848beb36"
   },
   "outputs": [],
   "source": [
    "recovered_kz_forecast_plot = m.plot(forecast)\n"
   ]
  },
  {
   "cell_type": "code",
   "execution_count": null,
   "metadata": {
    "colab": {
     "base_uri": "https://localhost:8080/",
     "height": 437
    },
    "colab_type": "code",
    "executionInfo": {
     "elapsed": 30570,
     "status": "ok",
     "timestamp": 1600692060977,
     "user": {
      "displayName": "Алмас Сапаров",
      "photoUrl": "https://lh3.googleusercontent.com/a-/AOh14GiFvDIYbmVPZXcpXOVxPINE1CsIsEv1LSCu62uJxQ=s64",
      "userId": "08892959959624178165"
     },
     "user_tz": -300
    },
    "id": "neANV2r-b0z-",
    "outputId": "3401d4a1-27b7-491a-8ead-9f0a6dde43a4"
   },
   "outputs": [],
   "source": [
    "recovered_kz_forecast_plot = m.plot_components(forecast)\n"
   ]
  },
  {
   "cell_type": "code",
   "execution_count": null,
   "metadata": {
    "colab": {
     "base_uri": "https://localhost:8080/",
     "height": 51
    },
    "colab_type": "code",
    "executionInfo": {
     "elapsed": 32970,
     "status": "ok",
     "timestamp": 1600692063425,
     "user": {
      "displayName": "Алмас Сапаров",
      "photoUrl": "https://lh3.googleusercontent.com/a-/AOh14GiFvDIYbmVPZXcpXOVxPINE1CsIsEv1LSCu62uJxQ=s64",
      "userId": "08892959959624178165"
     },
     "user_tz": -300
    },
    "id": "wLNJ-V6Kb1DB",
    "outputId": "7e4476cb-6545-493d-88af-7c227d884a49"
   },
   "outputs": [],
   "source": [
    "m = Prophet(interval_width=0.95)\n",
    "m.fit(deaths_kz)\n",
    "future = m.make_future_dataframe(periods=7)\n",
    "forecast = m.predict(future)"
   ]
  },
  {
   "cell_type": "code",
   "execution_count": null,
   "metadata": {
    "colab": {
     "base_uri": "https://localhost:8080/",
     "height": 437
    },
    "colab_type": "code",
    "executionInfo": {
     "elapsed": 33627,
     "status": "ok",
     "timestamp": 1600692064127,
     "user": {
      "displayName": "Алмас Сапаров",
      "photoUrl": "https://lh3.googleusercontent.com/a-/AOh14GiFvDIYbmVPZXcpXOVxPINE1CsIsEv1LSCu62uJxQ=s64",
      "userId": "08892959959624178165"
     },
     "user_tz": -300
    },
    "id": "EkGrRIS2b1Qp",
    "outputId": "4a216938-37a8-4d5b-edf5-6034559538cd"
   },
   "outputs": [],
   "source": [
    "deaths_kz_forecast_plot = m.plot(forecast)"
   ]
  },
  {
   "cell_type": "code",
   "execution_count": null,
   "metadata": {
    "colab": {
     "base_uri": "https://localhost:8080/",
     "height": 437
    },
    "colab_type": "code",
    "executionInfo": {
     "elapsed": 33601,
     "status": "ok",
     "timestamp": 1600692064130,
     "user": {
      "displayName": "Алмас Сапаров",
      "photoUrl": "https://lh3.googleusercontent.com/a-/AOh14GiFvDIYbmVPZXcpXOVxPINE1CsIsEv1LSCu62uJxQ=s64",
      "userId": "08892959959624178165"
     },
     "user_tz": -300
    },
    "id": "v-zHow9qb1dW",
    "outputId": "59af52b5-ff6f-410d-940d-3a0f6d906ae3"
   },
   "outputs": [],
   "source": [
    "deaths_kz_forecast_plot = m.plot_components(forecast)"
   ]
  },
  {
   "cell_type": "code",
   "execution_count": null,
   "metadata": {
    "colab": {
     "base_uri": "https://localhost:8080/",
     "height": 51
    },
    "colab_type": "code",
    "executionInfo": {
     "elapsed": 36171,
     "status": "ok",
     "timestamp": 1600692066718,
     "user": {
      "displayName": "Алмас Сапаров",
      "photoUrl": "https://lh3.googleusercontent.com/a-/AOh14GiFvDIYbmVPZXcpXOVxPINE1CsIsEv1LSCu62uJxQ=s64",
      "userId": "08892959959624178165"
     },
     "user_tz": -300
    },
    "id": "71UW_M4ucOS2",
    "outputId": "6e014856-8fa3-42be-e241-83eab10a0037"
   },
   "outputs": [],
   "source": [
    "m = Prophet(interval_width=0.95)\n",
    "m.fit(confirmed_kz)\n",
    "future = m.make_future_dataframe(periods=7)\n",
    "forecast = m.predict(future)"
   ]
  },
  {
   "cell_type": "code",
   "execution_count": null,
   "metadata": {
    "colab": {
     "base_uri": "https://localhost:8080/",
     "height": 437
    },
    "colab_type": "code",
    "executionInfo": {
     "elapsed": 36852,
     "status": "ok",
     "timestamp": 1600692067419,
     "user": {
      "displayName": "Алмас Сапаров",
      "photoUrl": "https://lh3.googleusercontent.com/a-/AOh14GiFvDIYbmVPZXcpXOVxPINE1CsIsEv1LSCu62uJxQ=s64",
      "userId": "08892959959624178165"
     },
     "user_tz": -300
    },
    "id": "wsKE-NCDcOd3",
    "outputId": "8c7fc325-f04b-40a9-ec3b-1988bb0b30b1"
   },
   "outputs": [],
   "source": [
    "confirmed_kz_forecast_plot = m.plot(forecast)"
   ]
  },
  {
   "cell_type": "code",
   "execution_count": null,
   "metadata": {
    "colab": {
     "base_uri": "https://localhost:8080/",
     "height": 437
    },
    "colab_type": "code",
    "executionInfo": {
     "elapsed": 37812,
     "status": "ok",
     "timestamp": 1600692068405,
     "user": {
      "displayName": "Алмас Сапаров",
      "photoUrl": "https://lh3.googleusercontent.com/a-/AOh14GiFvDIYbmVPZXcpXOVxPINE1CsIsEv1LSCu62uJxQ=s64",
      "userId": "08892959959624178165"
     },
     "user_tz": -300
    },
    "id": "FcUW6IGpcOoB",
    "outputId": "3123d0b4-05ba-4874-d1e0-8cfd2e071d2d"
   },
   "outputs": [],
   "source": [
    "confirmed_kz_forecast_plot = m.plot_components(forecast)"
   ]
  },
  {
   "cell_type": "markdown",
   "metadata": {
    "colab_type": "text",
    "id": "VeL_KdOvIsPP"
   },
   "source": [
    "# Part 5:COVID19 Model"
   ]
  },
  {
   "cell_type": "code",
   "execution_count": 8,
   "metadata": {
    "colab": {
     "base_uri": "https://localhost:8080/",
     "height": 1000
    },
    "colab_type": "code",
    "executionInfo": {
     "elapsed": 840354,
     "status": "ok",
     "timestamp": 1600691614184,
     "user": {
      "displayName": "Алмас Сапаров",
      "photoUrl": "https://lh3.googleusercontent.com/a-/AOh14GiFvDIYbmVPZXcpXOVxPINE1CsIsEv1LSCu62uJxQ=s64",
      "userId": "08892959959624178165"
     },
     "user_tz": -300
    },
    "id": "hoz08FmUkflm",
    "outputId": "0b4781b2-161a-4681-dd7d-b9e574e5167f"
   },
   "outputs": [
    {
     "data": {
      "image/png": "[encoded data removed]",
      "text/plain": [
       "<Figure size 720x864 with 1 Axes>"
      ]
     },
     "metadata": {
      "needs_background": "light"
     },
     "output_type": "display_data"
    }
   ],
   "source": [
    "N = 131800\n",
    "I0, R0 = 1, 0\n",
    "S0 = N - I0 - R0\n",
    "beta, gamma = 0.2, 1./30 \n",
    "days = 200\n",
    "t = np.linspace(0, days, days)\n",
    "\n",
    "\n",
    "def deriv(y, t, N, beta, gamma):\n",
    "    S, I, R = y\n",
    "    dSdt = -beta * S * I / N\n",
    "    dIdt = beta * S * I / N - gamma * I\n",
    "    dRdt = gamma * I\n",
    "    return dSdt, dIdt, dRdt\n",
    "\n",
    "\n",
    "y0 = S0, I0, R0\n",
    "ret = odeint(deriv, y0, t, args=(N, beta, gamma))\n",
    "S, I, R = ret.T\n",
    "\n",
    "fig = plt.figure()\n",
    "ax = fig.add_subplot(111, axisbelow=True)\n",
    "ax.plot(S,label='Susceptible')\n",
    "ax.plot(I,label='Infected')\n",
    "ax.plot(R,label='Recovered')\n",
    "ax.set_xlabel('Time /days')\n",
    "ax.set_ylabel('Number (1000s)')\n",
    "ax.yaxis.set_tick_params(length=0)\n",
    "ax.xaxis.set_tick_params(length=0)\n",
    "ax.grid(b=True, which='major', c='w', lw=2, ls='-')\n",
    "legend = ax.legend()\n",
    "legend.get_frame().set_alpha(0.5)\n",
    "for spine in ('top', 'right', 'bottom', 'left'):\n",
    "    ax.spines[spine].set_visible(False)\n",
    "plt.show()"
   ]
  },
  {
   "cell_type": "code",
   "execution_count": null,
   "metadata": {},
   "outputs": [],
   "source": []
  }
 ],
 "metadata": {
  "colab": {
   "collapsed_sections": [
    "dlLmZKkYUzMu",
    "PNpM1HZdGHfE",
    "VeL_KdOvIsPP"
   ],
   "name": "World_COVID_19.ipynb",
   "provenance": []
  },
  "kernelspec": {
   "display_name": "Python 3",
   "language": "python",
   "name": "python3"
  },
  "language_info": {
   "codemirror_mode": {
    "name": "ipython",
    "version": 3
   },
   "file_extension": ".py",
   "mimetype": "text/x-python",
   "name": "python",
   "nbconvert_exporter": "python",
   "pygments_lexer": "ipython3",
   "version": "3.8.5"
  }
 },
 "nbformat": 4,
 "nbformat_minor": 1
}
